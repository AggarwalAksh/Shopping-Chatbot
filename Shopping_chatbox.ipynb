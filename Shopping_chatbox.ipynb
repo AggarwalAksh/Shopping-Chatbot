{
  "nbformat": 4,
  "nbformat_minor": 0,
  "metadata": {
    "colab": {
      "provenance": []
    },
    "kernelspec": {
      "name": "python3",
      "display_name": "Python 3"
    },
    "language_info": {
      "name": "python"
    }
  },
  "cells": [
    {
      "cell_type": "code",
      "execution_count": 2,
      "metadata": {
        "colab": {
          "base_uri": "https://localhost:8080/"
        },
        "id": "uWqQHxpZ5DPn",
        "outputId": "20f3fe86-274d-4f1c-f344-4a7af836721c"
      },
      "outputs": [
        {
          "output_type": "stream",
          "name": "stdout",
          "text": [
            "Hello and welcome to our store\n",
            "Please enter your name\n",
            "Aksh\n",
            "Hi,Aksh\n",
            "Please choose the department number you wish to shop in.\n",
            "1. Grocery\n",
            "2. Frozen\n",
            "3. Utencils\n",
            "4. Clothes\n",
            "4\n",
            "You have chosen 4\n",
            "Thank you\n",
            "You will be redirected to your disired department.\n"
          ]
        }
      ],
      "source": [
        "print(\"Hello and welcome to our store\")\n",
        "print(\"Please enter your name\")\n",
        "name = input()\n",
        "print(\"Hi,\" + name)\n",
        "print(\"Please choose the department number you wish to shop in.\")\n",
        "print(\"1. Grocery\")\n",
        "print(\"2. Frozen\")\n",
        "print(\"3. Utencils\")\n",
        "print(\"4. Clothes\")\n",
        "choice = input()\n",
        "print(\"You have chosen\" , choice)\n",
        "print(\"Thank you\")\n",
        "print(\"You will be redirected to your disired department.\")"
      ]
    }
  ]
}